{
 "cells": [
  {
   "cell_type": "code",
   "execution_count": 2,
   "id": "c8b53cd2",
   "metadata": {},
   "outputs": [],
   "source": [
    "import pandas as pd\n",
    "import numpy as np\n",
    "from sklearn.preprocessing import StandardScaler\n",
    "from sklearn.model_selection import train_test_split"
   ]
  },
  {
   "cell_type": "code",
   "execution_count": 3,
   "id": "22e171c3",
   "metadata": {},
   "outputs": [],
   "source": [
    "data=pd.read_csv(\"D:\\project\\Walmart_Linear_Regression-main\\Dataset/Processed.csv\")"
   ]
  },
  {
   "cell_type": "code",
   "execution_count": 4,
   "id": "c7e359d8",
   "metadata": {},
   "outputs": [
    {
     "data": {
      "text/html": [
       "<div>\n",
       "<style scoped>\n",
       "    .dataframe tbody tr th:only-of-type {\n",
       "        vertical-align: middle;\n",
       "    }\n",
       "\n",
       "    .dataframe tbody tr th {\n",
       "        vertical-align: top;\n",
       "    }\n",
       "\n",
       "    .dataframe thead th {\n",
       "        text-align: right;\n",
       "    }\n",
       "</style>\n",
       "<table border=\"1\" class=\"dataframe\">\n",
       "  <thead>\n",
       "    <tr style=\"text-align: right;\">\n",
       "      <th></th>\n",
       "      <th>Unnamed: 0</th>\n",
       "      <th>Store</th>\n",
       "      <th>Weekly_Sales</th>\n",
       "      <th>Holiday_Flag</th>\n",
       "      <th>Temperature</th>\n",
       "      <th>Fuel_Price</th>\n",
       "      <th>CPI</th>\n",
       "      <th>Unemployment</th>\n",
       "      <th>year</th>\n",
       "      <th>month</th>\n",
       "      <th>day</th>\n",
       "    </tr>\n",
       "  </thead>\n",
       "  <tbody>\n",
       "    <tr>\n",
       "      <th>0</th>\n",
       "      <td>0</td>\n",
       "      <td>1</td>\n",
       "      <td>1643690.90</td>\n",
       "      <td>0</td>\n",
       "      <td>42.31</td>\n",
       "      <td>2.572</td>\n",
       "      <td>211.096358</td>\n",
       "      <td>8.106</td>\n",
       "      <td>1970</td>\n",
       "      <td>1</td>\n",
       "      <td>1</td>\n",
       "    </tr>\n",
       "    <tr>\n",
       "      <th>1</th>\n",
       "      <td>1</td>\n",
       "      <td>1</td>\n",
       "      <td>1641957.44</td>\n",
       "      <td>1</td>\n",
       "      <td>38.51</td>\n",
       "      <td>2.548</td>\n",
       "      <td>211.242170</td>\n",
       "      <td>8.106</td>\n",
       "      <td>1970</td>\n",
       "      <td>1</td>\n",
       "      <td>1</td>\n",
       "    </tr>\n",
       "    <tr>\n",
       "      <th>2</th>\n",
       "      <td>2</td>\n",
       "      <td>1</td>\n",
       "      <td>1611968.17</td>\n",
       "      <td>0</td>\n",
       "      <td>39.93</td>\n",
       "      <td>2.514</td>\n",
       "      <td>211.289143</td>\n",
       "      <td>8.106</td>\n",
       "      <td>1970</td>\n",
       "      <td>1</td>\n",
       "      <td>1</td>\n",
       "    </tr>\n",
       "    <tr>\n",
       "      <th>3</th>\n",
       "      <td>3</td>\n",
       "      <td>1</td>\n",
       "      <td>1409727.59</td>\n",
       "      <td>0</td>\n",
       "      <td>46.63</td>\n",
       "      <td>2.561</td>\n",
       "      <td>211.319643</td>\n",
       "      <td>8.106</td>\n",
       "      <td>1970</td>\n",
       "      <td>1</td>\n",
       "      <td>1</td>\n",
       "    </tr>\n",
       "    <tr>\n",
       "      <th>4</th>\n",
       "      <td>4</td>\n",
       "      <td>1</td>\n",
       "      <td>1554806.68</td>\n",
       "      <td>0</td>\n",
       "      <td>46.50</td>\n",
       "      <td>2.625</td>\n",
       "      <td>211.350143</td>\n",
       "      <td>8.106</td>\n",
       "      <td>1970</td>\n",
       "      <td>1</td>\n",
       "      <td>1</td>\n",
       "    </tr>\n",
       "  </tbody>\n",
       "</table>\n",
       "</div>"
      ],
      "text/plain": [
       "   Unnamed: 0  Store  Weekly_Sales  Holiday_Flag  Temperature  Fuel_Price  \\\n",
       "0           0      1    1643690.90             0        42.31       2.572   \n",
       "1           1      1    1641957.44             1        38.51       2.548   \n",
       "2           2      1    1611968.17             0        39.93       2.514   \n",
       "3           3      1    1409727.59             0        46.63       2.561   \n",
       "4           4      1    1554806.68             0        46.50       2.625   \n",
       "\n",
       "          CPI  Unemployment  year  month  day  \n",
       "0  211.096358         8.106  1970      1    1  \n",
       "1  211.242170         8.106  1970      1    1  \n",
       "2  211.289143         8.106  1970      1    1  \n",
       "3  211.319643         8.106  1970      1    1  \n",
       "4  211.350143         8.106  1970      1    1  "
      ]
     },
     "execution_count": 4,
     "metadata": {},
     "output_type": "execute_result"
    }
   ],
   "source": [
    "data.head()"
   ]
  },
  {
   "cell_type": "code",
   "execution_count": 5,
   "id": "738043cb",
   "metadata": {},
   "outputs": [],
   "source": [
    "# Creating the target and the data separation \n",
    "\n",
    "x = data.drop(['Weekly_Sales'],axis=1)\n",
    "y = data['Weekly_Sales']"
   ]
  },
  {
   "cell_type": "code",
   "execution_count": 6,
   "id": "f3475c7e",
   "metadata": {},
   "outputs": [],
   "source": [
    "scaler = StandardScaler()"
   ]
  },
  {
   "cell_type": "code",
   "execution_count": 7,
   "id": "b8aa43e0",
   "metadata": {},
   "outputs": [],
   "source": [
    "\n",
    "scaled_data = scaler.fit_transform(x)"
   ]
  },
  {
   "cell_type": "code",
   "execution_count": 9,
   "id": "2513b8c3",
   "metadata": {},
   "outputs": [],
   "source": [
    "# Creating the test-train split \n",
    "\n",
    "x_train, x_test, y_train, y_test = train_test_split(scaled_data,y, test_size=0.2, random_state=50) "
   ]
  },
  {
   "cell_type": "code",
   "execution_count": 10,
   "id": "94c26b96",
   "metadata": {},
   "outputs": [],
   "source": [
    "from sklearn.linear_model import LinearRegression\n",
    "from sklearn.metrics import mean_squared_error, r2_score"
   ]
  },
  {
   "cell_type": "code",
   "execution_count": 11,
   "id": "b7d9aec1",
   "metadata": {},
   "outputs": [],
   "source": [
    "lr = LinearRegression()"
   ]
  },
  {
   "cell_type": "code",
   "execution_count": 12,
   "id": "7ec10651",
   "metadata": {},
   "outputs": [
    {
     "data": {
      "text/plain": [
       "LinearRegression()"
      ]
     },
     "execution_count": 12,
     "metadata": {},
     "output_type": "execute_result"
    }
   ],
   "source": [
    "lr.fit(x_train,y_train)"
   ]
  },
  {
   "cell_type": "code",
   "execution_count": 13,
   "id": "98552478",
   "metadata": {},
   "outputs": [],
   "source": [
    "y_predict = lr.predict(x_test)"
   ]
  },
  {
   "cell_type": "code",
   "execution_count": 14,
   "id": "38858453",
   "metadata": {},
   "outputs": [],
   "source": [
    "\n",
    "mse = mean_squared_error(y_test,y_predict)"
   ]
  },
  {
   "cell_type": "code",
   "execution_count": 15,
   "id": "3726f170",
   "metadata": {},
   "outputs": [],
   "source": [
    "# Calculating root mean squared error\n",
    "rmse = np.sqrt(mse)"
   ]
  },
  {
   "cell_type": "code",
   "execution_count": 16,
   "id": "1affe18a",
   "metadata": {},
   "outputs": [
    {
     "name": "stdout",
     "output_type": "stream",
     "text": [
      "MSE 264656002064.15955\n",
      "RMSE 514447.27821630036\n"
     ]
    }
   ],
   "source": [
    "print('MSE',mse)\n",
    "print('RMSE',rmse)"
   ]
  },
  {
   "cell_type": "code",
   "execution_count": 17,
   "id": "0c2e08a5",
   "metadata": {},
   "outputs": [
    {
     "data": {
      "text/plain": [
       "0.13508807551905866"
      ]
     },
     "execution_count": 17,
     "metadata": {},
     "output_type": "execute_result"
    }
   ],
   "source": [
    "r2_score(y_test,y_predict)"
   ]
  },
  {
   "cell_type": "code",
   "execution_count": 18,
   "id": "f9ff0f30",
   "metadata": {},
   "outputs": [],
   "source": [
    "from sklearn.tree import DecisionTreeRegressor"
   ]
  },
  {
   "cell_type": "code",
   "execution_count": 19,
   "id": "8cb15499",
   "metadata": {},
   "outputs": [],
   "source": [
    "tree_reg = DecisionTreeRegressor(max_depth=3)"
   ]
  },
  {
   "cell_type": "code",
   "execution_count": 20,
   "id": "d7d12f91",
   "metadata": {},
   "outputs": [
    {
     "name": "stdout",
     "output_type": "stream",
     "text": [
      "Mean squared error:  167122809756.9508\n"
     ]
    }
   ],
   "source": [
    "tree_reg.fit(x_train, y_train)\n",
    "\n",
    "# Predict the output for the test data\n",
    "y_predict = tree_reg.predict(x_test)\n",
    "\n",
    "# Evaluate the performance of the model using mean squared error\n",
    "mse = mean_squared_error(y_test, y_predict)\n",
    "print(\"Mean squared error: \", mse)"
   ]
  },
  {
   "cell_type": "code",
   "execution_count": 21,
   "id": "b4bd2d91",
   "metadata": {},
   "outputs": [
    {
     "name": "stdout",
     "output_type": "stream",
     "text": [
      "0.4538324848702857\n"
     ]
    }
   ],
   "source": [
    "print(r2_score(y_test,y_predict))"
   ]
  },
  {
   "cell_type": "code",
   "execution_count": 22,
   "id": "2690d5d0",
   "metadata": {},
   "outputs": [],
   "source": [
    "from sklearn.ensemble import RandomForestRegressor"
   ]
  },
  {
   "cell_type": "code",
   "execution_count": 23,
   "id": "099d43f7",
   "metadata": {},
   "outputs": [
    {
     "name": "stdout",
     "output_type": "stream",
     "text": [
      "Mean squared error:  18864512098.013653\n",
      "R2 score:  0.9383496261719713\n"
     ]
    }
   ],
   "source": [
    "rf_reg = RandomForestRegressor(n_estimators=100, random_state=42)\n",
    "rf_reg.fit(x_train, y_train)\n",
    "\n",
    "# Predict the output for the test data\n",
    "y_pred = rf_reg.predict(x_test)\n",
    "\n",
    "# Evaluate the performance of the model using mean squared error and R2 score\n",
    "mse = mean_squared_error(y_test, y_pred)\n",
    "r2 = r2_score(y_test, y_pred)\n",
    "print(\"Mean squared error: \", mse)\n",
    "print(\"R2 score: \", r2)"
   ]
  },
  {
   "cell_type": "markdown",
   "id": "68a4969f",
   "metadata": {},
   "source": [
    "Inference : Random Forest Regressor is the best fitting model for the given dataset and it was able to nearly accurate about fitting the data.\n",
    "\n",
    "Final Observations\n",
    "Model\tR2_Score\tMSE\n",
    "Random Forest Regressor\t0.9547956655361873\t13832158045.8536\n",
    "Decision Tree Regressor\t0.45383248487028593\t167122809756.95074\n",
    "Linear Regression\t0.1315480049548715\t265739234814.2515\n"
   ]
  },
  {
   "cell_type": "code",
   "execution_count": null,
   "id": "37bf51bd",
   "metadata": {},
   "outputs": [],
   "source": []
  }
 ],
 "metadata": {
  "kernelspec": {
   "display_name": "Python 3 (ipykernel)",
   "language": "python",
   "name": "python3"
  },
  "language_info": {
   "codemirror_mode": {
    "name": "ipython",
    "version": 3
   },
   "file_extension": ".py",
   "mimetype": "text/x-python",
   "name": "python",
   "nbconvert_exporter": "python",
   "pygments_lexer": "ipython3",
   "version": "3.9.13"
  }
 },
 "nbformat": 4,
 "nbformat_minor": 5
}
